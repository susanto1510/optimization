{
 "cells": [
  {
   "cell_type": "code",
   "execution_count": 1,
   "metadata": {},
   "outputs": [],
   "source": [
    "import pandas as pd\n",
    "import numpy as np\n",
    "import matplotlib.pyplot as plt\n",
    "import seaborn as sns\n",
    "%matplotlib inline\n",
    "from sklearn.metrics import confusion_matrix, accuracy_score, classification_report, recall_score, precision_score\n",
    "from sklearn.utils import shuffle\n",
    "import time"
   ]
  },
  {
   "cell_type": "code",
   "execution_count": 2,
   "metadata": {},
   "outputs": [],
   "source": [
    "benign1=pd.read_csv(\"medbiot/bashlite_leg_fan.csv\")\n",
    "benign2=pd.read_csv(\"medbiot/bashlite_leg_light.csv\")\n",
    "benign3=pd.read_csv(\"medbiot/bashlite_leg_lock.csv\")\n",
    "benign4=pd.read_csv(\"medbiot/bashlite_leg_switch.csv\")\n",
    "benign5=pd.read_csv(\"medbiot/torii_leg_light.csv\")\n",
    "benign6=pd.read_csv(\"medbiot/torii_leg_fan.csv\")\n",
    "benign7=pd.read_csv(\"medbiot/torii_leg_lock.csv\")\n",
    "benign8=pd.read_csv(\"medbiot/torii_leg_raspberry1.csv\")\n",
    "benign9=pd.read_csv(\"medbiot/torii_leg_raspberry2.csv\")\n",
    "benign10=pd.read_csv(\"medbiot/torii_leg_switch.csv\")\n",
    "benign11=pd.read_csv(\"medbiot/mirai_leg_fan.csv\")\n",
    "benign12=pd.read_csv(\"medbiot/mirai_leg_light.csv\")\n",
    "benign13=pd.read_csv(\"medbiot/mirai_leg_lock.csv\")\n",
    "benign14=pd.read_csv(\"medbiot/mirai_leg_switch.csv\")\n",
    "mirai1=pd.read_csv(\"medbiot/mirai_mal_CC_fan.csv\")\n",
    "mirai2=pd.read_csv(\"medbiot/mirai_mal_CC_light.csv\")\n",
    "mirai3=pd.read_csv(\"medbiot/mirai_mal_CC_lock.csv\")\n",
    "mirai4=pd.read_csv(\"medbiot/mirai_mal_CC_switch.csv\")\n",
    "mirai5=pd.read_csv(\"medbiot/mirai_mal_spread_fan.csv\")\n",
    "mirai6=pd.read_csv(\"medbiot/mirai_mal_spread_light.csv\")\n",
    "mirai7=pd.read_csv(\"medbiot/mirai_mal_spread_lock.csv\")\n",
    "mirai8=pd.read_csv(\"medbiot/mirai_mal_spread_switch.csv\")\n",
    "bahslite1=pd.read_csv(\"medbiot/bashlite_mal_CC_fan.csv\")\n",
    "bahslite2=pd.read_csv(\"medbiot/bashlite_mal_CC_light.csv\")\n",
    "bahslite3=pd.read_csv(\"medbiot/bashlite_mal_CC_lock.csv\")\n",
    "bahslite4=pd.read_csv(\"medbiot/bashlite_mal_CC_switch.csv\")\n",
    "bahslite5=pd.read_csv(\"medbiot/bashlite_mal_spread_fan.csv\")\n",
    "bahslite6=pd.read_csv(\"medbiot/bashlite_mal_spread_light.csv\")\n",
    "bahslite7=pd.read_csv(\"medbiot/bashlite_mal_spread_lock.csv\")\n",
    "bahslite8=pd.read_csv(\"medbiot/bashlite_mal_spread_switch.csv\")\n",
    "tori1=pd.read_csv(\"medbiot/torii_mal_fan.csv\")\n",
    "tori2=pd.read_csv(\"medbiot/torii_mal_light.csv\")\n",
    "tori3=pd.read_csv(\"medbiot/torii_mal_lock.csv\")\n",
    "tori4=pd.read_csv(\"medbiot/torii_mal_raspberry1.csv\")\n",
    "tori5=pd.read_csv(\"medbiot/torii_mal_raspberry2.csv\")\n",
    "tori6=pd.read_csv(\"medbiot/torii_mal_switch.csv\")"
   ]
  },
  {
   "cell_type": "code",
   "execution_count": 3,
   "metadata": {},
   "outputs": [],
   "source": [
    "benign1['Out']='Benign'\n",
    "benign2['Out']='Benign'\n",
    "benign3['Out']='Benign'\n",
    "benign4['Out']='Benign'\n",
    "benign5['Out']='Benign'\n",
    "benign6['Out']='Benign'\n",
    "benign7['Out']='Benign'\n",
    "benign8['Out']='Benign'\n",
    "benign9['Out']='Benign'\n",
    "benign10['Out']='Benign'\n",
    "benign11['Out']='Benign'\n",
    "benign12['Out']='Benign'\n",
    "benign13['Out']='Benign'\n",
    "benign14['Out']='Benign'\n",
    "mirai1['Out']='Mirai'\n",
    "mirai2['Out']='Mirai'\n",
    "mirai3['Out']='Mirai'\n",
    "mirai4['Out']='Mirai'\n",
    "mirai5['Out']='Mirai'\n",
    "mirai6['Out']='Mirai'\n",
    "mirai7['Out']='Mirai'\n",
    "mirai8['Out']='Mirai'\n",
    "bahslite1['Out']='Bashlite'\n",
    "bahslite2['Out']='Bashlite'\n",
    "bahslite3['Out']='Bashlite'\n",
    "bahslite4['Out']='Bashlite'\n",
    "bahslite5['Out']='Bashlite'\n",
    "bahslite6['Out']='Bashlite'\n",
    "bahslite7['Out']='Bashlite'\n",
    "bahslite8['Out']='Bashlite'\n",
    "tori1['Out']='Torii'\n",
    "tori2['Out']='Torii'\n",
    "tori3['Out']='Torii'\n",
    "tori4['Out']='Torii'\n",
    "tori5['Out']='Torii'\n",
    "tori6['Out']='Torii'"
   ]
  },
  {
   "cell_type": "code",
   "execution_count": 5,
   "metadata": {},
   "outputs": [],
   "source": [
    "df=pd.concat([benign1,benign2,benign3,benign4,benign5,benign6,benign7,benign8,benign9,benign10,benign11,benign12,benign13,benign14,\n",
    "              mirai1,mirai2,mirai3,mirai4,mirai5,mirai6,mirai7,mirai8,bahslite1,bahslite2,bahslite3,bahslite4,bahslite5,bahslite6,bahslite7,bahslite8,\n",
    "             tori1,tori2,tori3,tori4,tori5,tori6],axis=0)\n",
    "df=shuffle(df)\n",
    "y=df['Out']\n",
    "df=df.drop(['Out'],axis=1)\n",
    "X=df.iloc[:,:115]\n",
    "start = time.time()"
   ]
  },
  {
   "cell_type": "code",
   "execution_count": 6,
   "metadata": {},
   "outputs": [],
   "source": [
    "from sklearn.preprocessing import StandardScaler\n",
    "sc_X = StandardScaler()\n",
    "X = sc_X.fit_transform(X)"
   ]
  },
  {
   "cell_type": "code",
   "execution_count": 7,
   "metadata": {},
   "outputs": [],
   "source": [
    "# Applying T-SVD\n",
    "from sklearn.decomposition import TruncatedSVD\n",
    "svd = TruncatedSVD(n_components=3)\n",
    "X = svd.fit_transform(X)"
   ]
  },
  {
   "cell_type": "code",
   "execution_count": 8,
   "metadata": {},
   "outputs": [
    {
     "name": "stdout",
     "output_type": "stream",
     "text": [
      "(1494055, 3) (640310, 3) (1494055,) (640310,)\n"
     ]
    }
   ],
   "source": [
    "from sklearn.model_selection import train_test_split\n",
    "x_train, x_test, y_train, y_test = train_test_split(X, y, test_size = 0.3, random_state = 0)\n",
    "\n",
    "print(x_train.shape,x_test.shape,y_train.shape,y_test.shape)"
   ]
  },
  {
   "cell_type": "code",
   "execution_count": 9,
   "metadata": {},
   "outputs": [
    {
     "name": "stderr",
     "output_type": "stream",
     "text": [
      "C:\\ProgramData\\Anaconda3\\lib\\site-packages\\sklearn\\utils\\deprecation.py:143: FutureWarning: The sklearn.metrics.scorer module is  deprecated in version 0.22 and will be removed in version 0.24. The corresponding classes / functions should instead be imported from sklearn.metrics. Anything that cannot be imported from sklearn.metrics is now part of the private API.\n",
      "  warnings.warn(message, FutureWarning)\n"
     ]
    },
    {
     "name": "stdout",
     "output_type": "stream",
     "text": [
      "Types [2, 2, 1, 1] and maxint [0, 2, 0, 0] detected\n",
      "--- Evolve in 3 possible combinations ---\n",
      "gen\tnevals\tavg    \tmin     \tmax     \tstd        \n",
      "0  \t50    \t0.98847\t0.987514\t0.989025\t0.000717044\n",
      "1  \t33    \t0.988957\t0.987514\t0.989025\t0.000295071\n",
      "2  \t27    \t0.989024\t0.988984\t0.989025\t8.00072e-06\n",
      "3  \t26    \t0.989025\t0.989025\t0.989025\t0          \n",
      "4  \t29    \t0.989024\t0.988984\t0.989025\t5.71599e-06\n",
      "5  \t43    \t0.988964\t0.987514\t0.989025\t0.000296046\n",
      "6  \t37    \t0.988934\t0.987514\t0.989025\t0.000358919\n",
      "7  \t25    \t0.989025\t0.989025\t0.989025\t0          \n",
      "8  \t35    \t0.988995\t0.987514\t0.989025\t0.000211585\n",
      "9  \t34    \t0.988934\t0.987514\t0.989025\t0.000358919\n",
      "10 \t20    \t0.989025\t0.989025\t0.989025\t0          \n",
      "Best individual is: {'learning_rate': 0.1, 'subsample': 0.9, 'n_estimators': 30, 'max_depth': 20}\n",
      "with fitness: 0.9890251697561335\n",
      "None\n"
     ]
    }
   ],
   "source": [
    "from sklearn.ensemble import GradientBoostingClassifier\n",
    "from evolutionary_search import EvolutionaryAlgorithmSearchCV\n",
    "\n",
    "parameters = {'learning_rate': [0.1],\n",
    "                  'subsample'    : [0.9, 0.5, 0.2],\n",
    "                  'n_estimators' : [30],\n",
    "                  'max_depth'    : [20] \n",
    "                 }\n",
    "\n",
    "Bayes = EvolutionaryAlgorithmSearchCV(GradientBoostingClassifier(), parameters, verbose=1, cv=3)\n",
    "print (Bayes.fit(x_train,y_train))"
   ]
  },
  {
   "cell_type": "code",
   "execution_count": 10,
   "metadata": {},
   "outputs": [
    {
     "name": "stdout",
     "output_type": "stream",
     "text": [
      "29530.85161113739 seconds\n",
      "Accuracy Score:\n",
      "0.9998467258568124\n"
     ]
    }
   ],
   "source": [
    "ygb= Bayes.predict(x_train)\n",
    "end = time.time()\n",
    "print(end - start, \"seconds\")\n",
    "print('Accuracy Score:')\n",
    "print(accuracy_score(y_train,ygb))"
   ]
  },
  {
   "cell_type": "code",
   "execution_count": 11,
   "metadata": {},
   "outputs": [
    {
     "data": {
      "text/plain": [
       "array([[547137,     18,     13,      0],\n",
       "       [     3, 761506,      3,      0],\n",
       "       [   128,     53, 139891,      0],\n",
       "       [     4,      0,      7,  45292]], dtype=int64)"
      ]
     },
     "execution_count": 11,
     "metadata": {},
     "output_type": "execute_result"
    }
   ],
   "source": [
    "clr= confusion_matrix(y_train,ygb)\n",
    "clr"
   ]
  },
  {
   "cell_type": "code",
   "execution_count": 12,
   "metadata": {},
   "outputs": [
    {
     "name": "stdout",
     "output_type": "stream",
     "text": [
      "Confusion matrix, without normalization\n",
      "[[547137     18     13      0]\n",
      " [     3 761506      3      0]\n",
      " [   128     53 139891      0]\n",
      " [     4      0      7  45292]]\n",
      "Normalized confusion matrix\n",
      "[[9.99943345e-01 3.28966606e-05 2.37586993e-05 0.00000000e+00]\n",
      " [3.93953083e-06 9.99992121e-01 3.93953083e-06 0.00000000e+00]\n",
      " [9.13815752e-04 3.78376835e-04 9.98707807e-01 0.00000000e+00]\n",
      " [8.82943734e-05 0.00000000e+00 1.54515154e-04 9.99757190e-01]]\n"
     ]
    },
    {
     "data": {
      "image/png": "[encoded data removed]",
      "text/plain": [
       "<Figure size 432x288 with 2 Axes>"
      ]
     },
     "metadata": {
      "needs_background": "light"
     },
     "output_type": "display_data"
    },
    {
     "data": {
      "image/png": "[encoded data removed]",
      "text/plain": [
       "<Figure size 432x288 with 2 Axes>"
      ]
     },
     "metadata": {
      "needs_background": "light"
     },
     "output_type": "display_data"
    }
   ],
   "source": [
    "from sklearn.metrics import plot_confusion_matrix\n",
    "\n",
    "classes=[\"Bashlite\", \"Benign\", \"Mirai\"]\n",
    "# Plot non-normalized confusion matrix\n",
    "titles_options = [(\"Confusion matrix, without normalization\", None),\n",
    "                  (\"Normalized confusion matrix\", 'true')]\n",
    "for title, normalize in titles_options:\n",
    "    disp = plot_confusion_matrix(Bayes, x_train, y_train,\n",
    "                                 display_labels=classes,\n",
    "                                 cmap=plt.cm.Blues,\n",
    "                                 normalize=normalize)\n",
    "    disp.ax_.set_title(title)\n",
    "\n",
    "    print(title)\n",
    "    print(disp.confusion_matrix)\n",
    "\n",
    "plt.show()"
   ]
  },
  {
   "cell_type": "code",
   "execution_count": 13,
   "metadata": {},
   "outputs": [
    {
     "data": {
      "text/plain": [
       "array([0.99994334, 0.99999212, 0.99870781, 0.99975719])"
      ]
     },
     "execution_count": 13,
     "metadata": {},
     "output_type": "execute_result"
    }
   ],
   "source": [
    "clrr = clr.astype('float') / clr.sum(axis=1)[:, np.newaxis]\n",
    "clrr.diagonal()"
   ]
  },
  {
   "cell_type": "code",
   "execution_count": 14,
   "metadata": {},
   "outputs": [
    {
     "data": {
      "text/plain": [
       "0.9998467258568124"
      ]
     },
     "execution_count": 14,
     "metadata": {},
     "output_type": "execute_result"
    }
   ],
   "source": [
    "acc_score= accuracy_score(y_train,ygb)\n",
    "acc_score"
   ]
  },
  {
   "cell_type": "code",
   "execution_count": 15,
   "metadata": {},
   "outputs": [
    {
     "name": "stdout",
     "output_type": "stream",
     "text": [
      "precision_score: 0.9998739269078226\n",
      "recall: 0.9996001158661871\n"
     ]
    }
   ],
   "source": [
    "Pr = precision_score(y_train, ygb,  average=\"macro\")\n",
    "tpr = recall_score(y_train, ygb,  average=\"macro\")   # it is better to name it y_test \n",
    "# to calculate, tnr we need to set the positive label to the other class\n",
    "# I assume your negative class consists of 0, if it is -1, change 0 below to that value\n",
    "\n",
    "print(\"precision_score:\", Pr)\n",
    "print(\"recall:\", tpr)"
   ]
  },
  {
   "cell_type": "code",
   "execution_count": 16,
   "metadata": {},
   "outputs": [
    {
     "name": "stdout",
     "output_type": "stream",
     "text": [
      "Calculating recall (also called the true positive rate or the sensitivity) for each class:  0.9999960604536519\n",
      "Calculating specificity (also called the true negative rate) for each class:  0.9999671025577761\n",
      "Calculating fall out (also called the false positive rate) for each class:  3.28974422238671e-05\n",
      "Calculating miss rate (also called the false negative rate) for each class:  3.939546348106194e-06\n"
     ]
    }
   ],
   "source": [
    "cm=confusion_matrix(y_train.ravel(), ygb.ravel())\n",
    "tn = cm[0][0]\n",
    "fn = cm[1][0]\n",
    "tp = cm[1][1]\n",
    "fp = cm[0][1]\n",
    "\n",
    "rec = tp / (tp + fn)\n",
    "spe = tn / (tn + fp)\n",
    "fal = fp / (fp + tn)\n",
    "mis = fn / (fn + tp)\n",
    "\n",
    "\n",
    "print(\"Calculating recall (also called the true positive rate or the sensitivity) for each class: \",rec)\n",
    "print(\"Calculating specificity (also called the true negative rate) for each class: \",spe)\n",
    "print(\"Calculating fall out (also called the false positive rate) for each class: \",fal)\n",
    "print(\"Calculating miss rate (also called the false negative rate) for each class: \",mis)"
   ]
  },
  {
   "cell_type": "code",
   "execution_count": 17,
   "metadata": {},
   "outputs": [
    {
     "name": "stdout",
     "output_type": "stream",
     "text": [
      "              precision    recall  f1-score   support\n",
      "\n",
      "    Bashlite       1.00      1.00      1.00    547168\n",
      "      Benign       1.00      1.00      1.00    761512\n",
      "       Mirai       1.00      1.00      1.00    140072\n",
      "       Torii       1.00      1.00      1.00     45303\n",
      "\n",
      "    accuracy                           1.00   1494055\n",
      "   macro avg       1.00      1.00      1.00   1494055\n",
      "weighted avg       1.00      1.00      1.00   1494055\n",
      "\n"
     ]
    }
   ],
   "source": [
    "print(classification_report(y_train, ygb))"
   ]
  },
  {
   "cell_type": "code",
   "execution_count": null,
   "metadata": {},
   "outputs": [],
   "source": []
  }
 ],
 "metadata": {
  "kernelspec": {
   "display_name": "Python 3",
   "language": "python",
   "name": "python3"
  },
  "language_info": {
   "codemirror_mode": {
    "name": "ipython",
    "version": 3
   },
   "file_extension": ".py",
   "mimetype": "text/x-python",
   "name": "python",
   "nbconvert_exporter": "python",
   "pygments_lexer": "ipython3",
   "version": "3.7.4"
  }
 },
 "nbformat": 4,
 "nbformat_minor": 2
}
