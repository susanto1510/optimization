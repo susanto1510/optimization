{
 "cells": [
  {
   "cell_type": "code",
   "execution_count": 1,
   "metadata": {},
   "outputs": [],
   "source": [
    "import pandas as pd\n",
    "import numpy as np\n",
    "import matplotlib.pyplot as plt\n",
    "import seaborn as sns\n",
    "%matplotlib inline\n",
    "from sklearn.metrics import confusion_matrix, accuracy_score, classification_report, recall_score, precision_score\n",
    "from sklearn.utils import shuffle\n",
    "import time"
   ]
  },
  {
   "cell_type": "code",
   "execution_count": 2,
   "metadata": {},
   "outputs": [],
   "source": [
    "benign1=pd.read_csv(\"medbiot/bashlite_leg_fan.csv\")\n",
    "benign2=pd.read_csv(\"medbiot/bashlite_leg_light.csv\")\n",
    "benign3=pd.read_csv(\"medbiot/bashlite_leg_lock.csv\")\n",
    "benign4=pd.read_csv(\"medbiot/bashlite_leg_switch.csv\")\n",
    "benign5=pd.read_csv(\"medbiot/torii_leg_light.csv\")\n",
    "benign6=pd.read_csv(\"medbiot/torii_leg_fan.csv\")\n",
    "benign7=pd.read_csv(\"medbiot/torii_leg_lock.csv\")\n",
    "benign8=pd.read_csv(\"medbiot/torii_leg_raspberry1.csv\")\n",
    "benign9=pd.read_csv(\"medbiot/torii_leg_raspberry2.csv\")\n",
    "benign10=pd.read_csv(\"medbiot/torii_leg_switch.csv\")\n",
    "benign11=pd.read_csv(\"medbiot/mirai_leg_fan.csv\")\n",
    "benign12=pd.read_csv(\"medbiot/mirai_leg_light.csv\")\n",
    "benign13=pd.read_csv(\"medbiot/mirai_leg_lock.csv\")\n",
    "benign14=pd.read_csv(\"medbiot/mirai_leg_switch.csv\")\n",
    "mirai1=pd.read_csv(\"medbiot/mirai_mal_CC_fan.csv\")\n",
    "mirai2=pd.read_csv(\"medbiot/mirai_mal_CC_light.csv\")\n",
    "mirai3=pd.read_csv(\"medbiot/mirai_mal_CC_lock.csv\")\n",
    "mirai4=pd.read_csv(\"medbiot/mirai_mal_CC_switch.csv\")\n",
    "mirai5=pd.read_csv(\"medbiot/mirai_mal_spread_fan.csv\")\n",
    "mirai6=pd.read_csv(\"medbiot/mirai_mal_spread_light.csv\")\n",
    "mirai7=pd.read_csv(\"medbiot/mirai_mal_spread_lock.csv\")\n",
    "mirai8=pd.read_csv(\"medbiot/mirai_mal_spread_switch.csv\")\n",
    "bahslite1=pd.read_csv(\"medbiot/bashlite_mal_CC_fan.csv\")\n",
    "bahslite2=pd.read_csv(\"medbiot/bashlite_mal_CC_light.csv\")\n",
    "bahslite3=pd.read_csv(\"medbiot/bashlite_mal_CC_lock.csv\")\n",
    "bahslite4=pd.read_csv(\"medbiot/bashlite_mal_CC_switch.csv\")\n",
    "bahslite5=pd.read_csv(\"medbiot/bashlite_mal_spread_fan.csv\")\n",
    "bahslite6=pd.read_csv(\"medbiot/bashlite_mal_spread_light.csv\")\n",
    "bahslite7=pd.read_csv(\"medbiot/bashlite_mal_spread_lock.csv\")\n",
    "bahslite8=pd.read_csv(\"medbiot/bashlite_mal_spread_switch.csv\")\n",
    "tori1=pd.read_csv(\"medbiot/torii_mal_fan.csv\")\n",
    "tori2=pd.read_csv(\"medbiot/torii_mal_light.csv\")\n",
    "tori3=pd.read_csv(\"medbiot/torii_mal_lock.csv\")\n",
    "tori4=pd.read_csv(\"medbiot/torii_mal_raspberry1.csv\")\n",
    "tori5=pd.read_csv(\"medbiot/torii_mal_raspberry2.csv\")\n",
    "tori6=pd.read_csv(\"medbiot/torii_mal_switch.csv\")"
   ]
  },
  {
   "cell_type": "code",
   "execution_count": 3,
   "metadata": {},
   "outputs": [],
   "source": [
    "benign1['Out']='Benign'\n",
    "benign2['Out']='Benign'\n",
    "benign3['Out']='Benign'\n",
    "benign4['Out']='Benign'\n",
    "benign5['Out']='Benign'\n",
    "benign6['Out']='Benign'\n",
    "benign7['Out']='Benign'\n",
    "benign8['Out']='Benign'\n",
    "benign9['Out']='Benign'\n",
    "benign10['Out']='Benign'\n",
    "benign11['Out']='Benign'\n",
    "benign12['Out']='Benign'\n",
    "benign13['Out']='Benign'\n",
    "benign14['Out']='Benign'\n",
    "mirai1['Out']='Mirai'\n",
    "mirai2['Out']='Mirai'\n",
    "mirai3['Out']='Mirai'\n",
    "mirai4['Out']='Mirai'\n",
    "mirai5['Out']='Mirai'\n",
    "mirai6['Out']='Mirai'\n",
    "mirai7['Out']='Mirai'\n",
    "mirai8['Out']='Mirai'\n",
    "bahslite1['Out']='Bashlite'\n",
    "bahslite2['Out']='Bashlite'\n",
    "bahslite3['Out']='Bashlite'\n",
    "bahslite4['Out']='Bashlite'\n",
    "bahslite5['Out']='Bashlite'\n",
    "bahslite6['Out']='Bashlite'\n",
    "bahslite7['Out']='Bashlite'\n",
    "bahslite8['Out']='Bashlite'\n",
    "tori1['Out']='Torii'\n",
    "tori2['Out']='Torii'\n",
    "tori3['Out']='Torii'\n",
    "tori4['Out']='Torii'\n",
    "tori5['Out']='Torii'\n",
    "tori6['Out']='Torii'"
   ]
  },
  {
   "cell_type": "code",
   "execution_count": 4,
   "metadata": {},
   "outputs": [],
   "source": [
    "df=pd.concat([benign1,benign2,benign3,benign4,benign5,benign6,benign7,benign8,benign9,benign10,benign11,benign12,benign13,benign14,\n",
    "              mirai1,mirai2,mirai3,mirai4,mirai5,mirai6,mirai7,mirai8,bahslite1,bahslite2,bahslite3,bahslite4,bahslite5,bahslite6,bahslite7,bahslite8,\n",
    "             tori1,tori2,tori3,tori4,tori5,tori6],axis=0)\n",
    "df=shuffle(df)\n",
    "y=df['Out']\n",
    "df=df.drop(['Out'],axis=1)\n",
    "X=df.iloc[:,:115]\n",
    "start = time.time()"
   ]
  },
  {
   "cell_type": "code",
   "execution_count": 5,
   "metadata": {},
   "outputs": [],
   "source": [
    "from sklearn.preprocessing import StandardScaler\n",
    "sc_X = StandardScaler()\n",
    "X = sc_X.fit_transform(X)"
   ]
  },
  {
   "cell_type": "code",
   "execution_count": 6,
   "metadata": {},
   "outputs": [],
   "source": [
    "# Applying T-SVD\n",
    "from sklearn.decomposition import TruncatedSVD\n",
    "svd = TruncatedSVD(n_components=3)\n",
    "X = svd.fit_transform(X)"
   ]
  },
  {
   "cell_type": "code",
   "execution_count": 7,
   "metadata": {},
   "outputs": [
    {
     "name": "stdout",
     "output_type": "stream",
     "text": [
      "(1494055, 3) (640310, 3) (1494055,) (640310,)\n"
     ]
    }
   ],
   "source": [
    "from sklearn.model_selection import train_test_split\n",
    "x_train, x_test, y_train, y_test = train_test_split(X, y, test_size = 0.3, random_state = 0)\n",
    "\n",
    "print(x_train.shape,x_test.shape,y_train.shape,y_test.shape)"
   ]
  },
  {
   "cell_type": "code",
   "execution_count": 8,
   "metadata": {},
   "outputs": [
    {
     "name": "stderr",
     "output_type": "stream",
     "text": [
      "C:\\ProgramData\\Anaconda3\\lib\\site-packages\\sklearn\\utils\\deprecation.py:143: FutureWarning: The sklearn.metrics.scorer module is  deprecated in version 0.22 and will be removed in version 0.24. The corresponding classes / functions should instead be imported from sklearn.metrics. Anything that cannot be imported from sklearn.metrics is now part of the private API.\n",
      "  warnings.warn(message, FutureWarning)\n"
     ]
    },
    {
     "name": "stdout",
     "output_type": "stream",
     "text": [
      "Types [1, 2] and maxint [0, 0] detected\n",
      "--- Evolve in 1 possible combinations ---\n",
      "gen\tnevals\tavg     \tmin     \tmax     \tstd        \n",
      "0  \t50    \t0.939431\t0.939431\t0.939431\t1.11022e-16\n",
      "1  \t37    \t0.939431\t0.939431\t0.939431\t1.11022e-16\n",
      "2  \t29    \t0.939431\t0.939431\t0.939431\t1.11022e-16\n",
      "3  \t24    \t0.939431\t0.939431\t0.939431\t1.11022e-16\n",
      "4  \t28    \t0.939431\t0.939431\t0.939431\t1.11022e-16\n",
      "5  \t35    \t0.939431\t0.939431\t0.939431\t1.11022e-16\n",
      "6  \t31    \t0.939431\t0.939431\t0.939431\t1.11022e-16\n",
      "7  \t33    \t0.939431\t0.939431\t0.939431\t1.11022e-16\n",
      "8  \t29    \t0.939431\t0.939431\t0.939431\t1.11022e-16\n",
      "9  \t35    \t0.939431\t0.939431\t0.939431\t1.11022e-16\n",
      "10 \t22    \t0.939431\t0.939431\t0.939431\t1.11022e-16\n",
      "Best individual is: {'n_estimators': 700, 'learning_rate': 0.1}\n",
      "with fitness: 0.9394312793036401\n",
      "None\n"
     ]
    }
   ],
   "source": [
    "from evolutionary_search import EvolutionaryAlgorithmSearchCV\n",
    "from sklearn.ensemble import AdaBoostClassifier\n",
    "\n",
    "params = {'n_estimators':[700],'learning_rate':[0.1]}\n",
    "grid = EvolutionaryAlgorithmSearchCV(AdaBoostClassifier(), params, verbose=1, cv=3)\n",
    "print (grid.fit(x_train,y_train))"
   ]
  },
  {
   "cell_type": "code",
   "execution_count": 9,
   "metadata": {},
   "outputs": [
    {
     "name": "stdout",
     "output_type": "stream",
     "text": [
      "5811.901839733124 seconds\n",
      "Accuracy Score:\n",
      "0.9396936525094458\n"
     ]
    }
   ],
   "source": [
    "yab= grid.predict(x_train)\n",
    "end = time.time()\n",
    "print(end - start, \"seconds\")\n",
    "print('Accuracy Score:')\n",
    "print(accuracy_score(y_train,yab))"
   ]
  },
  {
   "cell_type": "code",
   "execution_count": 10,
   "metadata": {},
   "outputs": [
    {
     "data": {
      "text/plain": [
       "array([[528251,   5578,  12500,    629],\n",
       "       [  7567, 745666,   8396,    241],\n",
       "       [ 27026,  18363,  94025,    494],\n",
       "       [  1171,   5729,   2407,  36012]], dtype=int64)"
      ]
     },
     "execution_count": 10,
     "metadata": {},
     "output_type": "execute_result"
    }
   ],
   "source": [
    "clr= confusion_matrix(y_train,yab)\n",
    "clr"
   ]
  },
  {
   "cell_type": "code",
   "execution_count": 11,
   "metadata": {},
   "outputs": [
    {
     "name": "stdout",
     "output_type": "stream",
     "text": [
      "Confusion matrix, without normalization\n",
      "[[528251   5578  12500    629]\n",
      " [  7567 745666   8396    241]\n",
      " [ 27026  18363  94025    494]\n",
      " [  1171   5729   2407  36012]]\n",
      "Normalized confusion matrix\n",
      "[[9.65798105e-01 1.01982236e-02 2.28536743e-02 1.14999689e-03]\n",
      " [9.93214065e-03 9.78731280e-01 1.10202528e-02 3.16326932e-04]\n",
      " [1.93169797e-01 1.31250536e-01 6.72048775e-01 3.53089173e-03]\n",
      " [2.58390521e-02 1.26414969e-01 5.31123811e-02 7.94633597e-01]]\n"
     ]
    },
    {
     "data": {
      "image/png": "[encoded data removed]",
      "text/plain": [
       "<Figure size 432x288 with 2 Axes>"
      ]
     },
     "metadata": {
      "needs_background": "light"
     },
     "output_type": "display_data"
    },
    {
     "data": {
      "image/png": "[encoded data removed]",
      "text/plain": [
       "<Figure size 432x288 with 2 Axes>"
      ]
     },
     "metadata": {
      "needs_background": "light"
     },
     "output_type": "display_data"
    }
   ],
   "source": [
    "from sklearn.metrics import plot_confusion_matrix\n",
    "\n",
    "classes=[\"Bashlite\", \"Benign\", \"Mirai\"]\n",
    "# Plot non-normalized confusion matrix\n",
    "titles_options = [(\"Confusion matrix, without normalization\", None),\n",
    "                  (\"Normalized confusion matrix\", 'true')]\n",
    "for title, normalize in titles_options:\n",
    "    disp = plot_confusion_matrix(grid, x_train, y_train,\n",
    "                                 display_labels=classes,\n",
    "                                 cmap=plt.cm.Blues,\n",
    "                                 normalize=normalize)\n",
    "    disp.ax_.set_title(title)\n",
    "\n",
    "    print(title)\n",
    "    print(disp.confusion_matrix)\n",
    "\n",
    "plt.show()"
   ]
  },
  {
   "cell_type": "code",
   "execution_count": 12,
   "metadata": {},
   "outputs": [
    {
     "data": {
      "text/plain": [
       "array([0.96579811, 0.97873128, 0.67204877, 0.7946336 ])"
      ]
     },
     "execution_count": 12,
     "metadata": {},
     "output_type": "execute_result"
    }
   ],
   "source": [
    "clrr = clr.astype('float') / clr.sum(axis=1)[:, np.newaxis]\n",
    "clrr.diagonal()"
   ]
  },
  {
   "cell_type": "code",
   "execution_count": 13,
   "metadata": {},
   "outputs": [
    {
     "data": {
      "text/plain": [
       "0.9396936525094458"
      ]
     },
     "execution_count": 13,
     "metadata": {},
     "output_type": "execute_result"
    }
   ],
   "source": [
    "acc_score= accuracy_score(y_train,yab)\n",
    "acc_score"
   ]
  },
  {
   "cell_type": "code",
   "execution_count": 14,
   "metadata": {},
   "outputs": [
    {
     "name": "stdout",
     "output_type": "stream",
     "text": [
      "precision_score: 0.9158037275645279\n",
      "recall: 0.8528029392668555\n"
     ]
    }
   ],
   "source": [
    "Pr = precision_score(y_train, yab,  average=\"macro\")\n",
    "tpr = recall_score(y_train, yab,  average=\"macro\")   # it is better to name it y_test \n",
    "# to calculate, tnr we need to set the positive label to the other class\n",
    "# I assume your negative class consists of 0, if it is -1, change 0 below to that value\n",
    "\n",
    "print(\"precision_score:\", Pr)\n",
    "print(\"recall:\", tpr)"
   ]
  },
  {
   "cell_type": "code",
   "execution_count": 15,
   "metadata": {},
   "outputs": [
    {
     "name": "stdout",
     "output_type": "stream",
     "text": [
      "Calculating recall (also called the true positive rate or the sensitivity) for each class:  0.9899539717457945\n",
      "Calculating specificity (also called the true negative rate) for each class:  0.9895509610755504\n",
      "Calculating fall out (also called the false positive rate) for each class:  0.010449038924449589\n",
      "Calculating miss rate (also called the false negative rate) for each class:  0.010046028254205539\n"
     ]
    }
   ],
   "source": [
    "cm=confusion_matrix(y_train.ravel(), yab.ravel())\n",
    "tn = cm[0][0]\n",
    "fn = cm[1][0]\n",
    "tp = cm[1][1]\n",
    "fp = cm[0][1]\n",
    "\n",
    "rec = tp / (tp + fn)\n",
    "spe = tn / (tn + fp)\n",
    "fal = fp / (fp + tn)\n",
    "mis = fn / (fn + tp)\n",
    "\n",
    "\n",
    "print(\"Calculating recall (also called the true positive rate or the sensitivity) for each class: \",rec)\n",
    "print(\"Calculating specificity (also called the true negative rate) for each class: \",spe)\n",
    "print(\"Calculating fall out (also called the false positive rate) for each class: \",fal)\n",
    "print(\"Calculating miss rate (also called the false negative rate) for each class: \",mis)"
   ]
  },
  {
   "cell_type": "code",
   "execution_count": 16,
   "metadata": {},
   "outputs": [
    {
     "name": "stdout",
     "output_type": "stream",
     "text": [
      "              precision    recall  f1-score   support\n",
      "\n",
      "    Bashlite       0.94      0.97      0.95    546958\n",
      "      Benign       0.96      0.98      0.97    761870\n",
      "       Mirai       0.80      0.67      0.73    139908\n",
      "       Torii       0.96      0.79      0.87     45319\n",
      "\n",
      "    accuracy                           0.94   1494055\n",
      "   macro avg       0.92      0.85      0.88   1494055\n",
      "weighted avg       0.94      0.94      0.94   1494055\n",
      "\n"
     ]
    }
   ],
   "source": [
    "print(classification_report(y_train, yab))"
   ]
  },
  {
   "cell_type": "code",
   "execution_count": null,
   "metadata": {},
   "outputs": [],
   "source": []
  }
 ],
 "metadata": {
  "kernelspec": {
   "display_name": "Python 3",
   "language": "python",
   "name": "python3"
  },
  "language_info": {
   "codemirror_mode": {
    "name": "ipython",
    "version": 3
   },
   "file_extension": ".py",
   "mimetype": "text/x-python",
   "name": "python",
   "nbconvert_exporter": "python",
   "pygments_lexer": "ipython3",
   "version": "3.7.4"
  }
 },
 "nbformat": 4,
 "nbformat_minor": 2
}
