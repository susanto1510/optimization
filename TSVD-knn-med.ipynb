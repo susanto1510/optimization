{
 "cells": [
  {
   "cell_type": "code",
   "execution_count": 1,
   "metadata": {},
   "outputs": [],
   "source": [
    "import pandas as pd\n",
    "import numpy as np\n",
    "import matplotlib.pyplot as plt\n",
    "import seaborn as sns\n",
    "%matplotlib inline\n",
    "from sklearn.metrics import confusion_matrix, accuracy_score, classification_report, recall_score, precision_score\n",
    "from sklearn.utils import shuffle\n",
    "import time"
   ]
  },
  {
   "cell_type": "code",
   "execution_count": 2,
   "metadata": {},
   "outputs": [],
   "source": [
    "benign1=pd.read_csv(\"medbiot/bashlite_leg_fan.csv\")\n",
    "benign2=pd.read_csv(\"medbiot/bashlite_leg_light.csv\")\n",
    "benign3=pd.read_csv(\"medbiot/bashlite_leg_lock.csv\")\n",
    "benign4=pd.read_csv(\"medbiot/bashlite_leg_switch.csv\")\n",
    "benign5=pd.read_csv(\"medbiot/torii_leg_light.csv\")\n",
    "benign6=pd.read_csv(\"medbiot/torii_leg_fan.csv\")\n",
    "benign7=pd.read_csv(\"medbiot/torii_leg_lock.csv\")\n",
    "benign8=pd.read_csv(\"medbiot/torii_leg_raspberry1.csv\")\n",
    "benign9=pd.read_csv(\"medbiot/torii_leg_raspberry2.csv\")\n",
    "benign10=pd.read_csv(\"medbiot/torii_leg_switch.csv\")\n",
    "benign11=pd.read_csv(\"medbiot/mirai_leg_fan.csv\")\n",
    "benign12=pd.read_csv(\"medbiot/mirai_leg_light.csv\")\n",
    "benign13=pd.read_csv(\"medbiot/mirai_leg_lock.csv\")\n",
    "benign14=pd.read_csv(\"medbiot/mirai_leg_switch.csv\")\n",
    "mirai1=pd.read_csv(\"medbiot/mirai_mal_CC_fan.csv\")\n",
    "mirai2=pd.read_csv(\"medbiot/mirai_mal_CC_light.csv\")\n",
    "mirai3=pd.read_csv(\"medbiot/mirai_mal_CC_lock.csv\")\n",
    "mirai4=pd.read_csv(\"medbiot/mirai_mal_CC_switch.csv\")\n",
    "mirai5=pd.read_csv(\"medbiot/mirai_mal_spread_fan.csv\")\n",
    "mirai6=pd.read_csv(\"medbiot/mirai_mal_spread_light.csv\")\n",
    "mirai7=pd.read_csv(\"medbiot/mirai_mal_spread_lock.csv\")\n",
    "mirai8=pd.read_csv(\"medbiot/mirai_mal_spread_switch.csv\")\n",
    "bahslite1=pd.read_csv(\"medbiot/bashlite_mal_CC_fan.csv\")\n",
    "bahslite2=pd.read_csv(\"medbiot/bashlite_mal_CC_light.csv\")\n",
    "bahslite3=pd.read_csv(\"medbiot/bashlite_mal_CC_lock.csv\")\n",
    "bahslite4=pd.read_csv(\"medbiot/bashlite_mal_CC_switch.csv\")\n",
    "bahslite5=pd.read_csv(\"medbiot/bashlite_mal_spread_fan.csv\")\n",
    "bahslite6=pd.read_csv(\"medbiot/bashlite_mal_spread_light.csv\")\n",
    "bahslite7=pd.read_csv(\"medbiot/bashlite_mal_spread_lock.csv\")\n",
    "bahslite8=pd.read_csv(\"medbiot/bashlite_mal_spread_switch.csv\")\n",
    "tori1=pd.read_csv(\"medbiot/torii_mal_fan.csv\")\n",
    "tori2=pd.read_csv(\"medbiot/torii_mal_light.csv\")\n",
    "tori3=pd.read_csv(\"medbiot/torii_mal_lock.csv\")\n",
    "tori4=pd.read_csv(\"medbiot/torii_mal_raspberry1.csv\")\n",
    "tori5=pd.read_csv(\"medbiot/torii_mal_raspberry2.csv\")\n",
    "tori6=pd.read_csv(\"medbiot/torii_mal_switch.csv\")"
   ]
  },
  {
   "cell_type": "code",
   "execution_count": 4,
   "metadata": {},
   "outputs": [],
   "source": [
    "benign1['Out']='Benign'\n",
    "benign2['Out']='Benign'\n",
    "benign3['Out']='Benign'\n",
    "benign4['Out']='Benign'\n",
    "benign5['Out']='Benign'\n",
    "benign6['Out']='Benign'\n",
    "benign7['Out']='Benign'\n",
    "benign8['Out']='Benign'\n",
    "benign9['Out']='Benign'\n",
    "benign10['Out']='Benign'\n",
    "benign11['Out']='Benign'\n",
    "benign12['Out']='Benign'\n",
    "benign13['Out']='Benign'\n",
    "benign14['Out']='Benign'\n",
    "mirai1['Out']='Mirai'\n",
    "mirai2['Out']='Mirai'\n",
    "mirai3['Out']='Mirai'\n",
    "mirai4['Out']='Mirai'\n",
    "mirai5['Out']='Mirai'\n",
    "mirai6['Out']='Mirai'\n",
    "mirai7['Out']='Mirai'\n",
    "mirai8['Out']='Mirai'\n",
    "bahslite1['Out']='Bashlite'\n",
    "bahslite2['Out']='Bashlite'\n",
    "bahslite3['Out']='Bashlite'\n",
    "bahslite4['Out']='Bashlite'\n",
    "bahslite5['Out']='Bashlite'\n",
    "bahslite6['Out']='Bashlite'\n",
    "bahslite7['Out']='Bashlite'\n",
    "bahslite8['Out']='Bashlite'\n",
    "tori1['Out']='Torii'\n",
    "tori2['Out']='Torii'\n",
    "tori3['Out']='Torii'\n",
    "tori4['Out']='Torii'\n",
    "tori5['Out']='Torii'\n",
    "tori6['Out']='Torii'"
   ]
  },
  {
   "cell_type": "code",
   "execution_count": 6,
   "metadata": {},
   "outputs": [],
   "source": [
    "df=pd.concat([benign1,benign2,benign3,benign4,benign5,benign6,benign7,benign8,benign9,benign10,benign11,benign12,benign13,benign14,\n",
    "              mirai1,mirai2,mirai3,mirai4,mirai5,mirai6,mirai7,mirai8,bahslite1,bahslite2,bahslite3,bahslite4,bahslite5,bahslite6,bahslite7,bahslite8,\n",
    "             tori1,tori2,tori3,tori4,tori5,tori6],axis=0)\n",
    "df=shuffle(df)\n",
    "y=df['Out']\n",
    "df=df.drop(['Out'],axis=1)\n",
    "X=df.iloc[:,:115]\n",
    "start = time.time()"
   ]
  },
  {
   "cell_type": "code",
   "execution_count": 7,
   "metadata": {},
   "outputs": [],
   "source": [
    "from sklearn.preprocessing import StandardScaler\n",
    "sc_X = StandardScaler()\n",
    "X = sc_X.fit_transform(X)"
   ]
  },
  {
   "cell_type": "code",
   "execution_count": 8,
   "metadata": {},
   "outputs": [],
   "source": [
    "# Applying T-SVD\n",
    "from sklearn.decomposition import TruncatedSVD\n",
    "svd = TruncatedSVD(n_components=3)\n",
    "X = svd.fit_transform(X)"
   ]
  },
  {
   "cell_type": "code",
   "execution_count": 9,
   "metadata": {},
   "outputs": [
    {
     "name": "stdout",
     "output_type": "stream",
     "text": [
      "(1494055, 3) (640310, 3) (1494055,) (640310,)\n"
     ]
    }
   ],
   "source": [
    "from sklearn.model_selection import train_test_split\n",
    "x_train, x_test, y_train, y_test = train_test_split(X, y, test_size = 0.3, random_state = 0)\n",
    "\n",
    "print(x_train.shape,x_test.shape,y_train.shape,y_test.shape)"
   ]
  },
  {
   "cell_type": "code",
   "execution_count": 10,
   "metadata": {},
   "outputs": [
    {
     "name": "stderr",
     "output_type": "stream",
     "text": [
      "C:\\ProgramData\\Anaconda3\\lib\\site-packages\\sklearn\\utils\\deprecation.py:143: FutureWarning: The sklearn.metrics.scorer module is  deprecated in version 0.22 and will be removed in version 0.24. The corresponding classes / functions should instead be imported from sklearn.metrics. Anything that cannot be imported from sklearn.metrics is now part of the private API.\n",
      "  warnings.warn(message, FutureWarning)\n"
     ]
    },
    {
     "name": "stdout",
     "output_type": "stream",
     "text": [
      "Types [1, 1] and maxint [29, 1] detected\n",
      "--- Evolve in 60 possible combinations ---\n",
      "gen\tnevals\tavg     \tmin     \tmax     \tstd       \n",
      "0  \t50    \t0.987612\t0.985294\t0.989017\t0.00103003\n",
      "1  \t36    \t0.988451\t0.985471\t0.989017\t0.000599709\n",
      "2  \t29    \t0.988813\t0.988082\t0.989017\t0.000218773\n",
      "3  \t33    \t0.988951\t0.987787\t0.989017\t0.000212097\n",
      "4  \t37    \t0.988992\t0.988094\t0.989017\t0.000128804\n",
      "5  \t25    \t0.989012\t0.988781\t0.989017\t3.30778e-05\n",
      "6  \t31    \t0.988993\t0.987832\t0.989017\t0.000165951\n",
      "7  \t35    \t0.988998\t0.988084\t0.989017\t0.000130624\n",
      "8  \t33    \t0.98897 \t0.987574\t0.989017\t0.000238329\n",
      "9  \t33    \t0.988998\t0.988084\t0.989017\t0.000130624\n",
      "10 \t33    \t0.989017\t0.989017\t0.989017\t1.11022e-16\n",
      "Best individual is: {'n_neighbors': 6, 'weights': 'distance'}\n",
      "with fitness: 0.9890171379233027\n",
      "None\n"
     ]
    }
   ],
   "source": [
    "#Gridsearch\n",
    "from sklearn.neighbors import KNeighborsClassifier\n",
    "from evolutionary_search import EvolutionaryAlgorithmSearchCV\n",
    "k_range = list(range(1,31))\n",
    "weight_options = [\"uniform\", \"distance\"]\n",
    "\n",
    "param_grid = dict(n_neighbors = k_range, weights = weight_options)\n",
    "grid = EvolutionaryAlgorithmSearchCV(KNeighborsClassifier(), param_grid, verbose=1, cv=3)\n",
    "print (grid.fit(x_train,y_train))"
   ]
  },
  {
   "cell_type": "code",
   "execution_count": 11,
   "metadata": {},
   "outputs": [
    {
     "name": "stdout",
     "output_type": "stream",
     "text": [
      "3015.636234521866 seconds\n",
      "Accuracy Score:\n",
      "0.9999879522507539\n"
     ]
    }
   ],
   "source": [
    "yp= grid.predict(x_train)\n",
    "end = time.time()\n",
    "print(end - start, \"seconds\")\n",
    "print('Accuracy Score:')\n",
    "print(accuracy_score(y_train,yp))"
   ]
  },
  {
   "cell_type": "code",
   "execution_count": 12,
   "metadata": {},
   "outputs": [
    {
     "data": {
      "text/plain": [
       "array([[547081,      0,      6,      0],\n",
       "       [     0, 761336,      2,      0],\n",
       "       [     3,      1, 140238,      2],\n",
       "       [     4,      0,      0,  45382]], dtype=int64)"
      ]
     },
     "execution_count": 12,
     "metadata": {},
     "output_type": "execute_result"
    }
   ],
   "source": [
    "clr= confusion_matrix(y_train,yp)\n",
    "clr"
   ]
  },
  {
   "cell_type": "code",
   "execution_count": 14,
   "metadata": {},
   "outputs": [
    {
     "name": "stdout",
     "output_type": "stream",
     "text": [
      "Confusion matrix, without normalization\n",
      "[[547081      0      6      0]\n",
      " [     0 761336      2      0]\n",
      " [     3      1 140238      2]\n",
      " [     4      0      0  45382]]\n",
      "Normalized confusion matrix\n",
      "[[9.99989033e-01 0.00000000e+00 1.09671771e-05 0.00000000e+00]\n",
      " [0.00000000e+00 9.99997373e-01 2.62695413e-06 0.00000000e+00]\n",
      " [2.13912895e-05 7.13042982e-06 9.99957217e-01 1.42608596e-05]\n",
      " [8.81329044e-05 0.00000000e+00 0.00000000e+00 9.99911867e-01]]\n"
     ]
    },
    {
     "data": {
      "image/png": "[encoded data removed]",
      "text/plain": [
       "<Figure size 432x288 with 2 Axes>"
      ]
     },
     "metadata": {
      "needs_background": "light"
     },
     "output_type": "display_data"
    },
    {
     "data": {
      "image/png": "[encoded data removed]",
      "text/plain": [
       "<Figure size 432x288 with 2 Axes>"
      ]
     },
     "metadata": {
      "needs_background": "light"
     },
     "output_type": "display_data"
    }
   ],
   "source": [
    "from sklearn.metrics import plot_confusion_matrix\n",
    "\n",
    "classes=[\"Benign\", \"Bashlite\", , \"Mirai\"]\n",
    "# Plot non-normalized confusion matrix\n",
    "titles_options = [(\"Confusion matrix, without normalization\", None),\n",
    "                  (\"Normalized confusion matrix\", 'true')]\n",
    "for title, normalize in titles_options:\n",
    "    disp = plot_confusion_matrix(grid, x_train, y_train,\n",
    "                                 display_labels=classes,\n",
    "                                 cmap=plt.cm.Blues,\n",
    "                                 normalize=normalize)\n",
    "    disp.ax_.set_title(title)\n",
    "\n",
    "    print(title)\n",
    "    print(disp.confusion_matrix)\n",
    "\n",
    "plt.show()"
   ]
  },
  {
   "cell_type": "code",
   "execution_count": 15,
   "metadata": {},
   "outputs": [
    {
     "data": {
      "text/plain": [
       "array([0.99998903, 0.99999737, 0.99995722, 0.99991187])"
      ]
     },
     "execution_count": 15,
     "metadata": {},
     "output_type": "execute_result"
    }
   ],
   "source": [
    "clrr = clr.astype('float') / clr.sum(axis=1)[:, np.newaxis]\n",
    "clrr.diagonal()"
   ]
  },
  {
   "cell_type": "code",
   "execution_count": 16,
   "metadata": {},
   "outputs": [
    {
     "data": {
      "text/plain": [
       "0.9999879522507539"
      ]
     },
     "execution_count": 16,
     "metadata": {},
     "output_type": "execute_result"
    }
   ],
   "source": [
    "acc_score= accuracy_score(y_train,yp)\n",
    "acc_score"
   ]
  },
  {
   "cell_type": "code",
   "execution_count": 17,
   "metadata": {},
   "outputs": [
    {
     "name": "stdout",
     "output_type": "stream",
     "text": [
      "precision_score: 0.9999711951213598\n",
      "recall: 0.9999638725963635\n"
     ]
    }
   ],
   "source": [
    "Pr = precision_score(y_train, yp,  average=\"macro\")\n",
    "tpr = recall_score(y_train, yp,  average=\"macro\")   # it is better to name it y_test \n",
    "# to calculate, tnr we need to set the positive label to the other class\n",
    "# I assume your negative class consists of 0, if it is -1, change 0 below to that value\n",
    "\n",
    "print(\"precision_score:\", Pr)\n",
    "print(\"recall:\", tpr)"
   ]
  },
  {
   "cell_type": "code",
   "execution_count": 18,
   "metadata": {},
   "outputs": [
    {
     "name": "stdout",
     "output_type": "stream",
     "text": [
      "Calculating recall (also called the true positive rate or the sensitivity) for each class:  1.0\n",
      "Calculating specificity (also called the true negative rate) for each class:  1.0\n",
      "Calculating fall out (also called the false positive rate) for each class:  0.0\n",
      "Calculating miss rate (also called the false negative rate) for each class:  0.0\n"
     ]
    }
   ],
   "source": [
    "cm=confusion_matrix(y_train.ravel(), yp.ravel())\n",
    "tn = cm[0][0]\n",
    "fn = cm[1][0]\n",
    "tp = cm[1][1]\n",
    "fp = cm[0][1]\n",
    "\n",
    "rec = tp / (tp + fn)\n",
    "spe = tn / (tn + fp)\n",
    "fal = fp / (fp + tn)\n",
    "mis = fn / (fn + tp)\n",
    "\n",
    "\n",
    "print(\"Calculating recall (also called the true positive rate or the sensitivity) for each class: \",rec)\n",
    "print(\"Calculating specificity (also called the true negative rate) for each class: \",spe)\n",
    "print(\"Calculating fall out (also called the false positive rate) for each class: \",fal)\n",
    "print(\"Calculating miss rate (also called the false negative rate) for each class: \",mis)"
   ]
  },
  {
   "cell_type": "code",
   "execution_count": 19,
   "metadata": {},
   "outputs": [
    {
     "name": "stdout",
     "output_type": "stream",
     "text": [
      "              precision    recall  f1-score   support\n",
      "\n",
      "    Bashlite       1.00      1.00      1.00    547087\n",
      "      Benign       1.00      1.00      1.00    761338\n",
      "       Mirai       1.00      1.00      1.00    140244\n",
      "       Torii       1.00      1.00      1.00     45386\n",
      "\n",
      "    accuracy                           1.00   1494055\n",
      "   macro avg       1.00      1.00      1.00   1494055\n",
      "weighted avg       1.00      1.00      1.00   1494055\n",
      "\n"
     ]
    }
   ],
   "source": [
    "print(classification_report(y_train, yp))"
   ]
  },
  {
   "cell_type": "code",
   "execution_count": 17,
   "metadata": {},
   "outputs": [
    {
     "name": "stderr",
     "output_type": "stream",
     "text": [
      "C:\\ProgramData\\Anaconda3\\lib\\site-packages\\sklearn\\utils\\deprecation.py:143: FutureWarning: The sklearn.metrics.classification module is  deprecated in version 0.22 and will be removed in version 0.24. The corresponding classes / functions should instead be imported from sklearn.metrics. Anything that cannot be imported from sklearn.metrics is now part of the private API.\n",
      "  warnings.warn(message, FutureWarning)\n",
      "C:\\ProgramData\\Anaconda3\\lib\\site-packages\\sklearn\\base.py:213: FutureWarning: From version 0.24, get_params will raise an AttributeError if a parameter cannot be retrieved as an instance attribute. Previously it would return None.\n",
      "  FutureWarning)\n"
     ]
    },
    {
     "data": {
      "image/png": "[encoded data removed]",
      "text/plain": [
       "<Figure size 576x396 with 1 Axes>"
      ]
     },
     "metadata": {},
     "output_type": "display_data"
    },
    {
     "data": {
      "text/plain": [
       "<matplotlib.axes._subplots.AxesSubplot at 0x240a2dc2708>"
      ]
     },
     "execution_count": 17,
     "metadata": {},
     "output_type": "execute_result"
    }
   ],
   "source": [
    "from yellowbrick.classifier import ROCAUC\n",
    "visualizer = ROCAUC(knn, classes=[\"Bashlite\", \"Benign\", \"Mirai\"])\n",
    "\n",
    "visualizer.fit(x_train, y_train)        # Fit the training data to the visualizer\n",
    "visualizer.score(x_test, y_test)        # Evaluate the model on the test data\n",
    "visualizer.show()"
   ]
  },
  {
   "cell_type": "code",
   "execution_count": null,
   "metadata": {},
   "outputs": [],
   "source": []
  }
 ],
 "metadata": {
  "kernelspec": {
   "display_name": "Python 3",
   "language": "python",
   "name": "python3"
  },
  "language_info": {
   "codemirror_mode": {
    "name": "ipython",
    "version": 3
   },
   "file_extension": ".py",
   "mimetype": "text/x-python",
   "name": "python",
   "nbconvert_exporter": "python",
   "pygments_lexer": "ipython3",
   "version": "3.7.4"
  }
 },
 "nbformat": 4,
 "nbformat_minor": 2
}
