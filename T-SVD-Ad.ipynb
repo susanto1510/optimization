{
 "cells": [
  {
   "cell_type": "code",
   "execution_count": 1,
   "metadata": {},
   "outputs": [],
   "source": [
    "import pandas as pd\n",
    "import numpy as np\n",
    "import matplotlib.pyplot as plt\n",
    "import seaborn as sns\n",
    "%matplotlib inline\n",
    "from sklearn.metrics import confusion_matrix, accuracy_score, classification_report, recall_score, precision_score\n",
    "from sklearn.utils import shuffle\n",
    "import time"
   ]
  },
  {
   "cell_type": "code",
   "execution_count": 2,
   "metadata": {},
   "outputs": [],
   "source": [
    "benign1=pd.read_csv(\"Data/benign_traffic_1002.csv\")\n",
    "benign2=pd.read_csv(\"Data/benign_traffic_1003.csv\")\n",
    "benign3=pd.read_csv(\"Data/benign_traffic_737.csv\")\n",
    "benign4=pd.read_csv(\"Data/benign_traffic_838.csv\")\n",
    "benign5=pd.read_csv(\"Data/benign_traffic_bm.csv\")\n",
    "benign6=pd.read_csv(\"Data/benign_traffic_db.csv\")\n",
    "benign7=pd.read_csv(\"Data/benign_traffic_et.csv\")\n",
    "benign8=pd.read_csv(\"Data/benign_traffic_snh.csv\")\n",
    "benign9=pd.read_csv(\"Data/benign_traffic_ed.csv\")\n",
    "\n",
    "ack1=pd.read_csv(\"Data/ack_m_1002.csv\")\n",
    "ack2=pd.read_csv(\"Data/ack_m_1003.csv\")\n",
    "ack3=pd.read_csv(\"Data/ack_m_737.csv\")\n",
    "ack4=pd.read_csv(\"Data/ack_m_838.csv\")\n",
    "ack5=pd.read_csv(\"Data/ack_m_bm.csv\")\n",
    "ack6=pd.read_csv(\"Data/ack_m_db.csv\")\n",
    "ack7=pd.read_csv(\"Data/ack_m_et.csv\")\n",
    "\n",
    "syn1=pd.read_csv(\"Data/syn_m_1002.csv\")\n",
    "syn2=pd.read_csv(\"Data/syn_m_1003.csv\")\n",
    "syn3=pd.read_csv(\"Data/syn_m_737.csv\")\n",
    "syn4=pd.read_csv(\"Data/syn_m_838.csv\")\n",
    "syn5=pd.read_csv(\"Data/syn_m_bm.csv\")\n",
    "syn6=pd.read_csv(\"Data/syn_m_db.csv\")\n",
    "syn7=pd.read_csv(\"Data/syn_m_et.csv\")\n",
    "\n",
    "mudp1=pd.read_csv(\"Data/udp_m_1002.csv\")\n",
    "mudp2=pd.read_csv(\"Data/udp_m_1003.csv\")\n",
    "mudp3=pd.read_csv(\"Data/udp_m_737.csv\")\n",
    "mudp4=pd.read_csv(\"Data/udp_m_838.csv\")\n",
    "mudp5=pd.read_csv(\"Data/udp_m_bm.csv\")\n",
    "mudp6=pd.read_csv(\"Data/udp_m_db.csv\")\n",
    "mudp7=pd.read_csv(\"Data/udp_m_et.csv\")\n",
    "\n",
    "pudp1=pd.read_csv(\"Data/udpplain_m_1002.csv\")\n",
    "pudp2=pd.read_csv(\"Data/udpplain_m_1003.csv\")\n",
    "pudp3=pd.read_csv(\"Data/udpplain_m_737.csv\")\n",
    "pudp4=pd.read_csv(\"Data/udpplain_m_838.csv\")\n",
    "pudp5=pd.read_csv(\"Data/udpplain_m_bm.csv\")\n",
    "pudp6=pd.read_csv(\"Data/udpplain_m_db.csv\")\n",
    "pudp7=pd.read_csv(\"Data/udpplain_m_et.csv\")\n",
    "\n",
    "mscan1=pd.read_csv(\"Data/scan_m_1002.csv\")\n",
    "mscan2=pd.read_csv(\"Data/scan_m_1003.csv\")\n",
    "mscan3=pd.read_csv(\"Data/scan_m_737.csv\")\n",
    "mscan4=pd.read_csv(\"Data/scan_m_838.csv\")\n",
    "mscan5=pd.read_csv(\"Data/scan_m_bm.csv\")\n",
    "mscan6=pd.read_csv(\"Data/scan_m_db.csv\")\n",
    "mscan7=pd.read_csv(\"Data/scan_m_et.csv\")\n",
    "\n",
    "combo1=pd.read_csv(\"Data/combo_g_1002.csv\")\n",
    "combo2=pd.read_csv(\"Data/combo_g_1003.csv\")\n",
    "combo3=pd.read_csv(\"Data/combo_g_737.csv\")\n",
    "combo4=pd.read_csv(\"Data/combo_g_838.csv\")\n",
    "combo5=pd.read_csv(\"Data/combo_g_bm.csv\")\n",
    "combo6=pd.read_csv(\"Data/combo_g_db.csv\")\n",
    "combo7=pd.read_csv(\"Data/combo_g_et.csv\")\n",
    "combo8=pd.read_csv(\"Data/combo_g_snh.csv\")\n",
    "combo9=pd.read_csv(\"Data/combo_g_ed.csv\")\n",
    "\n",
    "junk1=pd.read_csv(\"Data/junk_g_1002.csv\")\n",
    "junk2=pd.read_csv(\"Data/junk_g_1003.csv\")\n",
    "junk3=pd.read_csv(\"Data/junk_g_737.csv\")\n",
    "junk4=pd.read_csv(\"Data/junk_g_838.csv\")\n",
    "junk5=pd.read_csv(\"Data/junk_g_bm.csv\")\n",
    "junk6=pd.read_csv(\"Data/junk_g_db.csv\")\n",
    "junk7=pd.read_csv(\"Data/junk_g_et.csv\")\n",
    "junk8=pd.read_csv(\"Data/junk_g_snh.csv\")\n",
    "junk9=pd.read_csv(\"Data/junk_g_ed.csv\")\n",
    "\n",
    "scan1=pd.read_csv(\"Data/scan_g_1002.csv\")\n",
    "scan2=pd.read_csv(\"Data/scan_g_1003.csv\")\n",
    "scan3=pd.read_csv(\"Data/scan_g_737.csv\")\n",
    "scan4=pd.read_csv(\"Data/scan_g_838.csv\")\n",
    "scan5=pd.read_csv(\"Data/scan_g_bm.csv\")\n",
    "scan6=pd.read_csv(\"Data/scan_g_db.csv\")\n",
    "scan7=pd.read_csv(\"Data/scan_g_et.csv\")\n",
    "scan8=pd.read_csv(\"Data/scan_g_snh.csv\")\n",
    "scan9=pd.read_csv(\"Data/scan_g_ed.csv\")\n",
    "\n",
    "tcp1=pd.read_csv(\"Data/tcp_g_1002.csv\")\n",
    "tcp2=pd.read_csv(\"Data/tcp_g_1003.csv\")\n",
    "tcp3=pd.read_csv(\"Data/tcp_g_737.csv\")\n",
    "tcp4=pd.read_csv(\"Data/tcp_g_838.csv\")\n",
    "tcp5=pd.read_csv(\"Data/tcp_g_bm.csv\")\n",
    "tcp6=pd.read_csv(\"Data/tcp_g_db.csv\")\n",
    "tcp7=pd.read_csv(\"Data/tcp_g_et.csv\")\n",
    "tcp8=pd.read_csv(\"Data/tcp_g_snh.csv\")\n",
    "tcp9=pd.read_csv(\"Data/tcp_g_ed.csv\")\n",
    "\n",
    "udp1=pd.read_csv(\"Data/udp_g_1002.csv\")\n",
    "udp2=pd.read_csv(\"Data/udp_g_1003.csv\")\n",
    "udp3=pd.read_csv(\"Data/udp_g_737.csv\")\n",
    "udp4=pd.read_csv(\"Data/udp_g_838.csv\")\n",
    "udp5=pd.read_csv(\"Data/udp_g_bm.csv\")\n",
    "udp6=pd.read_csv(\"Data/udp_g_db.csv\")\n",
    "udp7=pd.read_csv(\"Data/udp_g_et.csv\")\n",
    "udp8=pd.read_csv(\"Data/udp_g_snh.csv\")\n",
    "udp9=pd.read_csv(\"Data/udp_g_ed.csv\")"
   ]
  },
  {
   "cell_type": "code",
   "execution_count": 3,
   "metadata": {},
   "outputs": [],
   "source": [
    "benign1['Out']='Benign'\n",
    "benign2['Out']='Benign'\n",
    "benign3['Out']='Benign'\n",
    "benign4['Out']='Benign'\n",
    "benign5['Out']='Benign'\n",
    "benign6['Out']='Benign'\n",
    "benign7['Out']='Benign'\n",
    "benign8['Out']='Benign'\n",
    "benign9['Out']='Benign'\n",
    "\n",
    "ack1['Out']='Mirai'\n",
    "ack2['Out']='Mirai'\n",
    "ack3['Out']='Mirai'\n",
    "ack4['Out']='Mirai'\n",
    "ack5['Out']='Mirai'\n",
    "ack6['Out']='Mirai'\n",
    "ack7['Out']='Mirai'\n",
    "\n",
    "syn1['Out']='Mirai'\n",
    "syn2['Out']='Mirai'\n",
    "syn3['Out']='Mirai'\n",
    "syn4['Out']='Mirai'\n",
    "syn5['Out']='Mirai'\n",
    "syn6['Out']='Mirai'\n",
    "syn7['Out']='Mirai'\n",
    "\n",
    "mudp1['Out']='Mirai'\n",
    "mudp2['Out']='Mirai'\n",
    "mudp3['Out']='Mirai'\n",
    "mudp4['Out']='Mirai'\n",
    "mudp5['Out']='Mirai'\n",
    "mudp6['Out']='Mirai'\n",
    "mudp7['Out']='Mirai'\n",
    "\n",
    "pudp1['Out']='Mirai'\n",
    "pudp2['Out']='Mirai'\n",
    "pudp3['Out']='Mirai'\n",
    "pudp4['Out']='Mirai'\n",
    "pudp5['Out']='Mirai'\n",
    "pudp6['Out']='Mirai'\n",
    "pudp7['Out']='Mirai'\n",
    "\n",
    "combo1['Out']='Bashlite'\n",
    "combo2['Out']='Bashlite'\n",
    "combo3['Out']='Bashlite'\n",
    "combo4['Out']='Bashlite'\n",
    "combo5['Out']='Bashlite'\n",
    "combo6['Out']='Bashlite'\n",
    "combo7['Out']='Bashlite'\n",
    "combo8['Out']='Bashlite'\n",
    "combo9['Out']='Bashlite'\n",
    "\n",
    "junk1['Out']='Bashlite'\n",
    "junk2['Out']='Bashlite'\n",
    "junk3['Out']='Bashlite'\n",
    "junk4['Out']='Bashlite'\n",
    "junk5['Out']='Bashlite'\n",
    "junk6['Out']='Bashlite'\n",
    "junk7['Out']='Bashlite'\n",
    "junk8['Out']='Bashlite'\n",
    "junk9['Out']='Bashlite'\n",
    "\n",
    "scan1['Out']='Bashlite'\n",
    "scan2['Out']='Bashlite'\n",
    "scan3['Out']='Bashlite'\n",
    "scan4['Out']='Bashlite'\n",
    "scan5['Out']='Bashlite'\n",
    "scan6['Out']='Bashlite'\n",
    "scan7['Out']='Bashlite'\n",
    "scan8['Out']='Bashlite'\n",
    "scan9['Out']='Bashlite'\n",
    "\n",
    "mscan1['Out']='Mirai'\n",
    "mscan2['Out']='Mirai'\n",
    "mscan3['Out']='Mirai'\n",
    "mscan4['Out']='Mirai'\n",
    "mscan5['Out']='Mirai'\n",
    "mscan6['Out']='Mirai'\n",
    "mscan7['Out']='Mirai'\n",
    "\n",
    "tcp1['Out']='Bashlite'\n",
    "tcp2['Out']='Bashlite'\n",
    "tcp3['Out']='Bashlite'\n",
    "tcp4['Out']='Bashlite'\n",
    "tcp5['Out']='Bashlite'\n",
    "tcp6['Out']='Bashlite'\n",
    "tcp7['Out']='Bashlite'\n",
    "tcp8['Out']='Bashlite'\n",
    "tcp9['Out']='Bashlite'\n",
    "\n",
    "udp1['Out']='Bashlite'\n",
    "udp2['Out']='Bashlite'\n",
    "udp3['Out']='Bashlite'\n",
    "udp4['Out']='Bashlite'\n",
    "udp5['Out']='Bashlite'\n",
    "udp6['Out']='Bashlite'\n",
    "udp7['Out']='Bashlite'\n",
    "udp8['Out']='Bashlite'\n",
    "udp9['Out']='Bashlite'"
   ]
  },
  {
   "cell_type": "code",
   "execution_count": 4,
   "metadata": {},
   "outputs": [],
   "source": [
    "df=pd.concat([benign1,benign2,benign3,benign4,benign5,benign6,benign7,benign8,benign9,ack1,ack2,ack3,ack4,ack5,ack6,ack7,syn1,syn2,syn3,syn4,syn5,syn6,syn7,mudp1,mudp2,mudp3,mudp4,mudp5,mudp6,mudp7,pudp1,pudp2,pudp3,pudp4,pudp5,pudp6,pudp7,combo1,combo2,combo3,combo4,combo5,combo6,combo7,combo8,combo9,junk1,junk2,junk3,junk4,junk5,junk6,junk7,junk8,junk9,scan1,scan2,scan3,scan4,scan5,scan6,scan7,scan8,scan9,mscan1,mscan2,mscan3,mscan4,mscan5,mscan6,mscan7,tcp1,tcp2,tcp3,tcp4,tcp5,tcp6,tcp7,tcp8,tcp9,udp1,udp2,udp3,udp4,udp5,udp6,udp7,udp8,udp9],axis=0)\n",
    "df=shuffle(df)\n",
    "y=df['Out']\n",
    "df=df.drop(['Out'],axis=1)\n",
    "X=df.iloc[:,:115]\n",
    "start = time.time()"
   ]
  },
  {
   "cell_type": "code",
   "execution_count": 5,
   "metadata": {},
   "outputs": [],
   "source": [
    "from sklearn.preprocessing import StandardScaler\n",
    "sc_X = StandardScaler()\n",
    "X = sc_X.fit_transform(X)"
   ]
  },
  {
   "cell_type": "code",
   "execution_count": 6,
   "metadata": {},
   "outputs": [],
   "source": [
    "# Applying T-SVD\n",
    "from sklearn.decomposition import TruncatedSVD\n",
    "svd = TruncatedSVD(n_components=3)\n",
    "X = svd.fit_transform(X)"
   ]
  },
  {
   "cell_type": "code",
   "execution_count": 7,
   "metadata": {},
   "outputs": [
    {
     "name": "stdout",
     "output_type": "stream",
     "text": [
      "(991138, 3) (424774, 3) (991138,) (424774,)\n"
     ]
    }
   ],
   "source": [
    "from sklearn.model_selection import train_test_split\n",
    "x_train, x_test, y_train, y_test = train_test_split(X, y, test_size = 0.3, random_state = 0)\n",
    "\n",
    "print(x_train.shape,x_test.shape,y_train.shape,y_test.shape)"
   ]
  },
  {
   "cell_type": "code",
   "execution_count": 8,
   "metadata": {},
   "outputs": [
    {
     "name": "stderr",
     "output_type": "stream",
     "text": [
      "C:\\ProgramData\\Anaconda3\\lib\\site-packages\\sklearn\\utils\\deprecation.py:143: FutureWarning: The sklearn.metrics.scorer module is  deprecated in version 0.22 and will be removed in version 0.24. The corresponding classes / functions should instead be imported from sklearn.metrics. Anything that cannot be imported from sklearn.metrics is now part of the private API.\n",
      "  warnings.warn(message, FutureWarning)\n"
     ]
    },
    {
     "name": "stdout",
     "output_type": "stream",
     "text": [
      "Types [1, 2] and maxint [0, 0] detected\n",
      "--- Evolve in 1 possible combinations ---\n",
      "gen\tnevals\tavg    \tmin    \tmax    \tstd        \n",
      "0  \t50    \t0.96077\t0.96077\t0.96077\t1.11022e-16\n",
      "1  \t31    \t0.96077\t0.96077\t0.96077\t1.11022e-16\n",
      "2  \t26    \t0.96077\t0.96077\t0.96077\t1.11022e-16\n",
      "3  \t30    \t0.96077\t0.96077\t0.96077\t1.11022e-16\n",
      "4  \t33    \t0.96077\t0.96077\t0.96077\t1.11022e-16\n",
      "5  \t28    \t0.96077\t0.96077\t0.96077\t1.11022e-16\n",
      "6  \t26    \t0.96077\t0.96077\t0.96077\t1.11022e-16\n",
      "7  \t33    \t0.96077\t0.96077\t0.96077\t1.11022e-16\n",
      "8  \t21    \t0.96077\t0.96077\t0.96077\t1.11022e-16\n",
      "9  \t30    \t0.96077\t0.96077\t0.96077\t1.11022e-16\n",
      "10 \t31    \t0.96077\t0.96077\t0.96077\t1.11022e-16\n",
      "Best individual is: {'n_estimators': 700, 'learning_rate': 0.1}\n",
      "with fitness: 0.9607703468134609\n",
      "None\n"
     ]
    }
   ],
   "source": [
    "from evolutionary_search import EvolutionaryAlgorithmSearchCV\n",
    "from sklearn.ensemble import AdaBoostClassifier\n",
    "\n",
    "params = {'n_estimators':[700],'learning_rate':[0.1]}\n",
    "grid = EvolutionaryAlgorithmSearchCV(AdaBoostClassifier(), params, verbose=1, cv=3)\n",
    "print (grid.fit(x_train,y_train))"
   ]
  },
  {
   "cell_type": "code",
   "execution_count": 9,
   "metadata": {},
   "outputs": [
    {
     "name": "stdout",
     "output_type": "stream",
     "text": [
      "3305.205785036087 seconds\n",
      "Accuracy Score:\n",
      "0.96090251811554\n"
     ]
    }
   ],
   "source": [
    "yab= grid.predict(x_train)\n",
    "end = time.time()\n",
    "print(end - start, \"seconds\")\n",
    "print('Accuracy Score:')\n",
    "print(accuracy_score(y_train,yab))"
   ]
  },
  {
   "cell_type": "code",
   "execution_count": 10,
   "metadata": {},
   "outputs": [
    {
     "data": {
      "text/plain": [
       "array([[373414,   1310,  25125],\n",
       "       [  4334,  72770,    748],\n",
       "       [  6884,    350, 506203]], dtype=int64)"
      ]
     },
     "execution_count": 10,
     "metadata": {},
     "output_type": "execute_result"
    }
   ],
   "source": [
    "clr= confusion_matrix(y_train,yab)\n",
    "clr"
   ]
  },
  {
   "cell_type": "code",
   "execution_count": 11,
   "metadata": {},
   "outputs": [
    {
     "name": "stdout",
     "output_type": "stream",
     "text": [
      "Confusion matrix, without normalization\n",
      "[[373414   1310  25125]\n",
      " [  4334  72770    748]\n",
      " [  6884    350 506203]]\n",
      "Normalized confusion matrix\n",
      "[[9.33887543e-01 3.27623678e-03 6.28362207e-02]\n",
      " [5.56697323e-02 9.34722294e-01 9.60797410e-03]\n",
      " [1.34076820e-02 6.81680518e-04 9.85910638e-01]]\n"
     ]
    },
    {
     "data": {
      "image/png": "[encoded data removed]",
      "text/plain": [
       "<Figure size 432x288 with 2 Axes>"
      ]
     },
     "metadata": {
      "needs_background": "light"
     },
     "output_type": "display_data"
    },
    {
     "data": {
      "image/png": "[encoded data removed]",
      "text/plain": [
       "<Figure size 432x288 with 2 Axes>"
      ]
     },
     "metadata": {
      "needs_background": "light"
     },
     "output_type": "display_data"
    }
   ],
   "source": [
    "from sklearn.metrics import plot_confusion_matrix\n",
    "\n",
    "classes=[\"Bashlite\", \"Benign\", \"Mirai\"]\n",
    "# Plot non-normalized confusion matrix\n",
    "titles_options = [(\"Confusion matrix, without normalization\", None),\n",
    "                  (\"Normalized confusion matrix\", 'true')]\n",
    "for title, normalize in titles_options:\n",
    "    disp = plot_confusion_matrix(grid, x_train, y_train,\n",
    "                                 display_labels=classes,\n",
    "                                 cmap=plt.cm.Blues,\n",
    "                                 normalize=normalize)\n",
    "    disp.ax_.set_title(title)\n",
    "\n",
    "    print(title)\n",
    "    print(disp.confusion_matrix)\n",
    "\n",
    "plt.show()"
   ]
  },
  {
   "cell_type": "code",
   "execution_count": 12,
   "metadata": {},
   "outputs": [
    {
     "data": {
      "text/plain": [
       "array([0.93388754, 0.93472229, 0.98591064])"
      ]
     },
     "execution_count": 12,
     "metadata": {},
     "output_type": "execute_result"
    }
   ],
   "source": [
    "clrr = clr.astype('float') / clr.sum(axis=1)[:, np.newaxis]\n",
    "clrr.diagonal()"
   ]
  },
  {
   "cell_type": "code",
   "execution_count": 13,
   "metadata": {},
   "outputs": [
    {
     "data": {
      "text/plain": [
       "0.96090251811554"
      ]
     },
     "execution_count": 13,
     "metadata": {},
     "output_type": "execute_result"
    }
   ],
   "source": [
    "acc_score= accuracy_score(y_train,yab)\n",
    "acc_score"
   ]
  },
  {
   "cell_type": "code",
   "execution_count": 14,
   "metadata": {},
   "outputs": [
    {
     "name": "stdout",
     "output_type": "stream",
     "text": [
      "precision_score: 0.966635037690292\n",
      "recall: 0.9515068245523679\n"
     ]
    }
   ],
   "source": [
    "Pr = precision_score(y_train, yab,  average=\"macro\")\n",
    "tpr = recall_score(y_train, yab,  average=\"macro\")   # it is better to name it y_test \n",
    "# to calculate, tnr we need to set the positive label to the other class\n",
    "# I assume your negative class consists of 0, if it is -1, change 0 below to that value\n",
    "\n",
    "print(\"precision_score:\", Pr)\n",
    "print(\"recall:\", tpr)"
   ]
  },
  {
   "cell_type": "code",
   "execution_count": 15,
   "metadata": {},
   "outputs": [
    {
     "name": "stdout",
     "output_type": "stream",
     "text": [
      "Calculating recall (also called the true positive rate or the sensitivity) for each class:  0.9437902054368126\n",
      "Calculating specificity (also called the true negative rate) for each class:  0.9965040936796149\n",
      "Calculating fall out (also called the false positive rate) for each class:  0.003495906320385137\n",
      "Calculating miss rate (also called the false negative rate) for each class:  0.056209794563187386\n"
     ]
    }
   ],
   "source": [
    "cm=confusion_matrix(y_train.ravel(), yab.ravel())\n",
    "tn = cm[0][0]\n",
    "fn = cm[1][0]\n",
    "tp = cm[1][1]\n",
    "fp = cm[0][1]\n",
    "\n",
    "rec = tp / (tp + fn)\n",
    "spe = tn / (tn + fp)\n",
    "fal = fp / (fp + tn)\n",
    "mis = fn / (fn + tp)\n",
    "\n",
    "\n",
    "print(\"Calculating recall (also called the true positive rate or the sensitivity) for each class: \",rec)\n",
    "print(\"Calculating specificity (also called the true negative rate) for each class: \",spe)\n",
    "print(\"Calculating fall out (also called the false positive rate) for each class: \",fal)\n",
    "print(\"Calculating miss rate (also called the false negative rate) for each class: \",mis)"
   ]
  },
  {
   "cell_type": "code",
   "execution_count": 16,
   "metadata": {},
   "outputs": [
    {
     "name": "stdout",
     "output_type": "stream",
     "text": [
      "              precision    recall  f1-score   support\n",
      "\n",
      "    Bashlite       0.97      0.93      0.95    399849\n",
      "      Benign       0.98      0.93      0.96     77852\n",
      "       Mirai       0.95      0.99      0.97    513437\n",
      "\n",
      "    accuracy                           0.96    991138\n",
      "   macro avg       0.97      0.95      0.96    991138\n",
      "weighted avg       0.96      0.96      0.96    991138\n",
      "\n"
     ]
    }
   ],
   "source": [
    "print(classification_report(y_train, yab))"
   ]
  },
  {
   "cell_type": "code",
   "execution_count": null,
   "metadata": {},
   "outputs": [],
   "source": []
  }
 ],
 "metadata": {
  "kernelspec": {
   "display_name": "Python 3",
   "language": "python",
   "name": "python3"
  },
  "language_info": {
   "codemirror_mode": {
    "name": "ipython",
    "version": 3
   },
   "file_extension": ".py",
   "mimetype": "text/x-python",
   "name": "python",
   "nbconvert_exporter": "python",
   "pygments_lexer": "ipython3",
   "version": "3.7.4"
  }
 },
 "nbformat": 4,
 "nbformat_minor": 2
}
